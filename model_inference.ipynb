{
  "cells": [
    {
      "cell_type": "markdown",
      "metadata": {},
      "source": [
        "# Model Inference"
      ]
    },
    {
      "cell_type": "markdown",
      "metadata": {},
      "source": [
        "## i. Import Library"
      ]
    },
    {
      "cell_type": "code",
      "execution_count": 2,
      "metadata": {
        "id": "NnI3VscLsD6z"
      },
      "outputs": [],
      "source": [
        "# Import libraries\n",
        "\n",
        "import pickle\n",
        "import pandas as pd\n",
        "import numpy as np"
      ]
    },
    {
      "cell_type": "markdown",
      "metadata": {},
      "source": [
        "## ii. Model Loading"
      ]
    },
    {
      "cell_type": "code",
      "execution_count": 3,
      "metadata": {
        "id": "4aqmhcqinrlU"
      },
      "outputs": [],
      "source": [
        "# Load model\n",
        "\n",
        "with open('model.pkl', 'rb') as model:\n",
        "  model = pickle.load(model)"
      ]
    },
    {
      "cell_type": "markdown",
      "metadata": {},
      "source": [
        "## iii. Inference Data"
      ]
    },
    {
      "cell_type": "code",
      "execution_count": 4,
      "metadata": {
        "colab": {
          "base_uri": "https://localhost:8080/",
          "height": 100
        },
        "id": "_6zz1wBVoYFG",
        "outputId": "e7389c1d-6944-45e7-a7d2-311fdc3b022d"
      },
      "outputs": [
        {
          "data": {
            "text/html": [
              "<div>\n",
              "<style scoped>\n",
              "    .dataframe tbody tr th:only-of-type {\n",
              "        vertical-align: middle;\n",
              "    }\n",
              "\n",
              "    .dataframe tbody tr th {\n",
              "        vertical-align: top;\n",
              "    }\n",
              "\n",
              "    .dataframe thead th {\n",
              "        text-align: right;\n",
              "    }\n",
              "</style>\n",
              "<table border=\"1\" class=\"dataframe\">\n",
              "  <thead>\n",
              "    <tr style=\"text-align: right;\">\n",
              "      <th></th>\n",
              "      <th>coupon_discount</th>\n",
              "      <th>campaign_length</th>\n",
              "      <th>trx_day</th>\n",
              "      <th>start_day</th>\n",
              "      <th>end_day</th>\n",
              "      <th>brand_type</th>\n",
              "      <th>category</th>\n",
              "      <th>campaign_type</th>\n",
              "      <th>age_range</th>\n",
              "      <th>income_bracket</th>\n",
              "    </tr>\n",
              "  </thead>\n",
              "  <tbody>\n",
              "    <tr>\n",
              "      <th>0</th>\n",
              "      <td>0.15</td>\n",
              "      <td>33</td>\n",
              "      <td>8</td>\n",
              "      <td>3</td>\n",
              "      <td>17</td>\n",
              "      <td>Local</td>\n",
              "      <td>Flowers &amp; Plants</td>\n",
              "      <td>X</td>\n",
              "      <td>36-45</td>\n",
              "      <td>7</td>\n",
              "    </tr>\n",
              "  </tbody>\n",
              "</table>\n",
              "</div>"
            ],
            "text/plain": [
              "   coupon_discount  campaign_length  trx_day  start_day  end_day brand_type  \\\n",
              "0             0.15               33        8          3       17      Local   \n",
              "\n",
              "           category campaign_type age_range  income_bracket  \n",
              "0  Flowers & Plants             X     36-45               7  "
            ]
          },
          "execution_count": 4,
          "metadata": {},
          "output_type": "execute_result"
        }
      ],
      "source": [
        "# Membuat data inference\n",
        "\n",
        "data_inf = pd.DataFrame({\n",
        "        'coupon_discount': 0.15,\n",
        "        'campaign_length': 33,\n",
        "        'trx_day': 8,\n",
        "        'start_day': 3,\n",
        "        'end_day': 17,\n",
        "        'brand_type': 'Local',\n",
        "        'category': 'Flowers & Plants',\n",
        "        'campaign_type': 'X',\n",
        "        'age_range': '36-45',\n",
        "        'income_bracket': 7\n",
        "    }, index=[0])\n",
        "\n",
        "# Membuat DataFrame dari data baru\n",
        "data_inf = pd.DataFrame(data_inf)\n",
        "\n",
        "# Menampilkan data baru\n",
        "data_inf"
      ]
    },
    {
      "cell_type": "markdown",
      "metadata": {},
      "source": [
        "## iv. Predicting Inference Data"
      ]
    },
    {
      "cell_type": "code",
      "execution_count": 5,
      "metadata": {
        "id": "LIWSHiJAqhcQ"
      },
      "outputs": [
        {
          "data": {
            "text/plain": [
              "array([0], dtype=int64)"
            ]
          },
          "execution_count": 5,
          "metadata": {},
          "output_type": "execute_result"
        }
      ],
      "source": [
        "# Memprediksi gagal bayar dengan menggunakan model yang sudah di-load\n",
        "y_pred_inf = model.predict(data_inf)\n",
        "y_pred_inf"
      ]
    },
    {
      "cell_type": "markdown",
      "metadata": {},
      "source": [
        "Dari hasil data inference data transaksi ini tidak menggunakan kupon yang berlaku."
      ]
    }
  ],
  "metadata": {
    "colab": {
      "provenance": []
    },
    "kernelspec": {
      "display_name": "Python 3",
      "name": "python3"
    },
    "language_info": {
      "codemirror_mode": {
        "name": "ipython",
        "version": 3
      },
      "file_extension": ".py",
      "mimetype": "text/x-python",
      "name": "python",
      "nbconvert_exporter": "python",
      "pygments_lexer": "ipython3",
      "version": "3.11.4"
    }
  },
  "nbformat": 4,
  "nbformat_minor": 0
}
